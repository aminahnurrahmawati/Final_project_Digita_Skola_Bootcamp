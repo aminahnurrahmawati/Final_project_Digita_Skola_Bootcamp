{
  "nbformat": 4,
  "nbformat_minor": 0,
  "metadata": {
    "colab": {
      "provenance": []
    },
    "kernelspec": {
      "name": "python3",
      "display_name": "Python 3"
    },
    "language_info": {
      "name": "python"
    }
  },
  "cells": [
    {
      "cell_type": "code",
      "execution_count": 1,
      "metadata": {
        "colab": {
          "base_uri": "https://localhost:8080/"
        },
        "id": "hK_KKonG8HTO",
        "outputId": "50c24482-0e0d-49b1-d938-a3a207d1b8a4"
      },
      "outputs": [
        {
          "output_type": "stream",
          "name": "stdout",
          "text": [
            "Looking in indexes: https://pypi.org/simple, https://us-python.pkg.dev/colab-wheels/public/simple/\n",
            "Collecting kafka-python\n",
            "  Downloading kafka_python-2.0.2-py2.py3-none-any.whl (246 kB)\n",
            "\u001b[K     |████████████████████████████████| 246 kB 7.6 MB/s \n",
            "\u001b[?25hInstalling collected packages: kafka-python\n",
            "Successfully installed kafka-python-2.0.2\n"
          ]
        }
      ],
      "source": [
        "!pip install kafka-python"
      ]
    },
    {
      "cell_type": "code",
      "source": [
        "!curl -sSOL https://dlcdn.apache.org/kafka/3.1.0/kafka_2.13-3.1.0.tgz\n",
        "!tar -xzf kafka_2.13-3.1.0.tgz"
      ],
      "metadata": {
        "colab": {
          "base_uri": "https://localhost:8080/"
        },
        "id": "EO2utXky8xAu",
        "outputId": "7549fbed-1797-45d7-ea70-fa2bfff0682d"
      },
      "execution_count": 4,
      "outputs": [
        {
          "output_type": "stream",
          "name": "stdout",
          "text": [
            "\n",
            "gzip: stdin: not in gzip format\n",
            "tar: Child returned status 1\n",
            "tar: Error is not recoverable: exiting now\n"
          ]
        }
      ]
    },
    {
      "cell_type": "code",
      "source": [
        "!./kafka_2.13-3.1.0/bin/zookeeper-server-start.sh -daemon ./kafka_2.13-3.1.0/config/zookeeper.properties\n",
        "!./kafka_2.13-3.1.0/bin/kafka-server-start.sh -daemon ./kafka_2.13-3.1.0/config/server.properties\n",
        "!echo \"Waiting for 10 secs until kafka and zookeeper services are up and running\"\n",
        "!sleep 10"
      ],
      "metadata": {
        "colab": {
          "base_uri": "https://localhost:8080/"
        },
        "id": "blMN9-XA84tc",
        "outputId": "317a12a4-27f9-46b0-9656-f700d54fb006"
      },
      "execution_count": 5,
      "outputs": [
        {
          "output_type": "stream",
          "name": "stdout",
          "text": [
            "/bin/bash: ./kafka_2.13-3.1.0/bin/zookeeper-server-start.sh: No such file or directory\n",
            "/bin/bash: ./kafka_2.13-3.1.0/bin/kafka-server-start.sh: No such file or directory\n",
            "Waiting for 10 secs until kafka and zookeeper services are up and running\n"
          ]
        }
      ]
    },
    {
      "cell_type": "code",
      "source": [
        "!ps -ef | grep kafka"
      ],
      "metadata": {
        "colab": {
          "base_uri": "https://localhost:8080/"
        },
        "id": "72N9fwuA9nbL",
        "outputId": "1c3cbc00-a8c6-4137-e332-6fddc0100de3"
      },
      "execution_count": 11,
      "outputs": [
        {
          "output_type": "stream",
          "name": "stdout",
          "text": [
            "root         180      73  0 12:02 ?        00:00:00 /bin/bash -c ps -ef | grep kafka\n",
            "root         182     180  0 12:02 ?        00:00:00 grep kafka\n"
          ]
        }
      ]
    },
    {
      "cell_type": "code",
      "source": [
        "!./kafka_2.13-3.1.0/bin/kafka-topics.sh --create --bootstrap-server 127.0.0.1:9092 --replication-factor 1 --partitions 1 --topic TopicCurency\n"
      ],
      "metadata": {
        "colab": {
          "base_uri": "https://localhost:8080/"
        },
        "id": "aAwJAW9C9slL",
        "outputId": "bee4618d-1cbe-482e-b4e2-323a6b2258c7"
      },
      "execution_count": 12,
      "outputs": [
        {
          "output_type": "stream",
          "name": "stdout",
          "text": [
            "/bin/bash: ./kafka_2.13-3.1.0/bin/kafka-topics.sh: No such file or directory\n"
          ]
        }
      ]
    },
    {
      "cell_type": "code",
      "source": [
        "url = 'https://www.freeforexapi.com/api/live?pairs=EURUSD,EURGBP,USDEUR'"
      ],
      "metadata": {
        "id": "mWnY0G0V8iuZ"
      },
      "execution_count": 3,
      "outputs": []
    },
    {
      "cell_type": "code",
      "source": [
        "import requests\n",
        "import time\n",
        "import json\n",
        "from kafka import KafkaProducer\n",
        "from kafka.errors import KafkaError"
      ],
      "metadata": {
        "id": "aCrh72T19J4O"
      },
      "execution_count": 17,
      "outputs": []
    },
    {
      "cell_type": "code",
      "source": [
        "# Kafka Producer\n",
        "producer = KafkaProducer(\n",
        "    bootstrap_servers=['127.0.0.1:9092']\n",
        ")"
      ],
      "metadata": {
        "id": "RkM84CJWAeUl"
      },
      "execution_count": null,
      "outputs": []
    },
    {
      "cell_type": "code",
      "source": [
        "if __name__ == '__main__':\n",
        "    # loop - runs until stopped\n",
        "    while True:\n",
        "        # send to topic\n",
        "        data = requests.get(url)\n",
        "        print(data.json())\n",
        "        record = json.dumps(data.json()).encode('utf-8')\n",
        "        producer.send('TopicCurency', record)\n",
        "        \n",
        "        # sleep for 30 seconds\n",
        "        time.sleep(30)"
      ],
      "metadata": {
        "id": "ywB3_inVAiMO"
      },
      "execution_count": null,
      "outputs": []
    }
  ]
}