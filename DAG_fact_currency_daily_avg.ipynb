{
 "cells": [
  {
   "cell_type": "code",
   "execution_count": null,
   "id": "5b0fee7f",
   "metadata": {},
   "outputs": [],
   "source": [
    "from airflow import DAG\n",
    "from airflow.operators.dummy_operator import DummyOperator\n",
    "from airflow.operators.bash_operator import BashOperator\n",
    "from airflow.providers.postgres.operators.postgres import PostgresOperator\n"
   ]
  },
  {
   "cell_type": "code",
   "execution_count": null,
   "id": "851d4455",
   "metadata": {},
   "outputs": [],
   "source": [
    "from datetime import datetime\n",
    "from datetime import timedelta\n",
    "from airflow.utils.dates import days_ago"
   ]
  },
  {
   "cell_type": "code",
   "execution_count": null,
   "id": "14b87c13",
   "metadata": {},
   "outputs": [],
   "source": [
    "default_args= {\n",
    "    'owner' : 'admin'\n",
    "}"
   ]
  },
  {
   "cell_type": "code",
   "execution_count": null,
   "id": "83da45a1",
   "metadata": {},
   "outputs": [],
   "source": [
    "with DAG(\n",
    "    'dag_fact_daily',\n",
    "    start_date= days_ago(1),\n",
    "    schedule_interval= '@daily',\n",
    "    default_args= default_args\n",
    ") as dag:\n",
    "\n",
    "    task_1= DummyOperator(\n",
    "        task_id= 'start'\n",
    "    )\n",
    "\n",
    "    task_2= PostgresOperator(\n",
    "        task_id='fact_total_per_state',\n",
    "        postgres_conn_id=\"postgres_default\",\n",
    "        sql='fact_total_per_state.sql',\n",
    "    )\n",
    "\n",
    "    task_3= PostgresOperator(\n",
    "        task_id='fact_currency_daily_avg',\n",
    "        postgres_conn_id=\"postgres_default\",\n",
    "        sql='fact_currency_daily_avg.sql',\n",
    "    )\n",
    "\n",
    "    task_4= DummyOperator(\n",
    "        task_id= 'stop'\n",
    "    )\n",
    "\n",
    "     \n",
    "    task1 >> task2 >> task3 >> task4"
   ]
  }
 ],
 "metadata": {
  "kernelspec": {
   "display_name": "Python 3 (ipykernel)",
   "language": "python",
   "name": "python3"
  },
  "language_info": {
   "codemirror_mode": {
    "name": "ipython",
    "version": 3
   },
   "file_extension": ".py",
   "mimetype": "text/x-python",
   "name": "python",
   "nbconvert_exporter": "python",
   "pygments_lexer": "ipython3",
   "version": "3.9.12"
  }
 },
 "nbformat": 4,
 "nbformat_minor": 5
}
