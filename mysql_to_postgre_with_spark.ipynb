{
 "cells": [
  {
   "cell_type": "code",
   "execution_count": null,
   "id": "45bfd9ba",
   "metadata": {},
   "outputs": [],
   "source": [
    "import findspark\n",
    "findspark.init()\n",
    "\n",
    "from pyspark.sql import SparkSession\n",
    "from pyspark.sql.functions import *\n",
    "from pyspark.sql.types import *"
   ]
  },
  {
   "cell_type": "code",
   "execution_count": null,
   "id": "c955ec07",
   "metadata": {},
   "outputs": [],
   "source": [
    "spark_mysql = SparkSession \\\n",
    "    .builder \\\n",
    "    .config(\"spark.jars\", \"spark/jars/mysql-connector-java-8.0.19.jar\") \\\n",
    "    .master(\"local[*]\") \\\n",
    "    .appName(\"final_project\") \\\n",
    "    .getOrCreate()"
   ]
  },
  {
   "cell_type": "code",
   "execution_count": null,
   "id": "1a4485e9",
   "metadata": {},
   "outputs": [],
   "source": [
    "application_train = spark_mysql.read.format('jdbc').options(\n",
    "    url='jdbc:mysql://localhost:3306/mysql',\n",
    "    driver='com.mysql.cj.jdbc.Driver',\n",
    "    dbtable='sys.home_credit_default_risk_application_train',\n",
    "    user='root',\n",
    "    password='mekanika').load()   "
   ]
  },
  {
   "cell_type": "code",
   "execution_count": null,
   "id": "01250db0",
   "metadata": {},
   "outputs": [],
   "source": [
    "application_test = spark_mysql.read.format('jdbc').options(\n",
    "    url='jdbc:mysql://localhost:3306/mysql',\n",
    "    driver='com.mysql.cj.jdbc.Driver',\n",
    "    dbtable='sys.home_credit_default_risk_application_test',\n",
    "    user='root',\n",
    "    password='mekanika').load()   "
   ]
  },
  {
   "cell_type": "code",
   "execution_count": null,
   "id": "b65ac719",
   "metadata": {},
   "outputs": [],
   "source": [
    "spark_postgres = SparkSession \\\n",
    "    .builder \\\n",
    "    .config(\"spark.jars\", \"jars/postgresql-42.5.1.jar\") \\\n",
    "    .master(\"local[*]\") \\\n",
    "    .appName(\"final_project_postgres\") \\\n",
    "    .getOrCreate()"
   ]
  },
  {
   "cell_type": "code",
   "execution_count": null,
   "id": "14b7902d",
   "metadata": {},
   "outputs": [],
   "source": [
    "application_train.write.format('jdbc').options(\n",
    "    url='jdbc:postgresql://localhost:5432/postgres',\n",
    "    driver='org.postgresql.Driver',\n",
    "    dbtable='final_project.application_train',\n",
    "    user='postgres',\n",
    "    password='mekanika').mode('ignore').save() "
   ]
  },
  {
   "cell_type": "code",
   "execution_count": null,
   "id": "0ba7b108",
   "metadata": {},
   "outputs": [],
   "source": [
    "application_test.write.format('jdbc').options(\n",
    "    url='jdbc:postgresql://localhost:5432/postgres',\n",
    "    driver='org.postgresql.Driver',\n",
    "    dbtable='final_project.application_test',\n",
    "    user='postgres',\n",
    "    password='mekanika').mode('ignore').save() "
   ]
  }
 ],
 "metadata": {
  "kernelspec": {
   "display_name": "Python 3 (ipykernel)",
   "language": "python",
   "name": "python3"
  },
  "language_info": {
   "codemirror_mode": {
    "name": "ipython",
    "version": 3
   },
   "file_extension": ".py",
   "mimetype": "text/x-python",
   "name": "python",
   "nbconvert_exporter": "python",
   "pygments_lexer": "ipython3",
   "version": "3.9.12"
  }
 },
 "nbformat": 4,
 "nbformat_minor": 5
}
