{
 "cells": [
  {
   "cell_type": "code",
   "execution_count": null,
   "id": "026da7d3",
   "metadata": {},
   "outputs": [],
   "source": [
    "# import libraries\n",
    "import findspark\n",
    "findspark.init()\n",
    "\n",
    "from pyspark.sql.types import *\n",
    "from pyspark.sql import SparkSession\n",
    "from pyspark.sql.functions import *"
   ]
  },
  {
   "cell_type": "code",
   "execution_count": null,
   "id": "3ba5b2f8",
   "metadata": {},
   "outputs": [],
   "source": [
    "if  __name__ == \"__main__\":\n",
    "    df_app_test = pd.read_csv(\"/application_test.csv\")\n",
    "\n",
    "    df_app_train = pd.read_csv(\"application_train.csv\")"
   ]
  },
  {
   "cell_type": "code",
   "execution_count": null,
   "id": "153f05db",
   "metadata": {},
   "outputs": [],
   "source": [
    "# build connection with spark\n",
    "spark = SparkSession \\\n",
    "    .builder \\\n",
    "    .config(\"spark.jars\", \"spark/jars/mysql-connector-java-8.0.19.jar\") \\\n",
    "    .master(\"local[*]\") \\\n",
    "    .appName(\"final_project_ds9\") \\\n",
    "    .getOrCreate()"
   ]
  },
  {
   "cell_type": "code",
   "execution_count": null,
   "id": "063c92fd",
   "metadata": {},
   "outputs": [],
   "source": [
    "application_train = spark.read \\\n",
    "                .format(\"csv\") \\\n",
    "                .option(\"inferSchema\", \"true\") \\\n",
    "                .option(\"header\", \"true\") \\\n",
    "                .load('application_train.csv')"
   ]
  },
  {
   "cell_type": "code",
   "execution_count": null,
   "id": "2516f367",
   "metadata": {},
   "outputs": [],
   "source": [
    "application_test = spark.read \\\n",
    "                .format(\"csv\") \\\n",
    "                .option(\"inferSchema\", \"true\") \\\n",
    "                .option(\"header\", \"true\") \\\n",
    "                .load('application_test.csv')"
   ]
  },
  {
   "cell_type": "code",
   "execution_count": null,
   "id": "f14a2351",
   "metadata": {},
   "outputs": [],
   "source": [
    "application_train.write.format('jdbc').options(\n",
    "    url='jdbc:mysql://localhost:3306/mysql',\n",
    "    driver='com.mysql.cj.jdbc.Driver',\n",
    "    dbtable='sys.home_credit_default_risk_application_train',\n",
    "    user='root',\n",
    "    password='mekanika').mode('ignore').save()"
   ]
  },
  {
   "cell_type": "code",
   "execution_count": null,
   "id": "aa2f4b79",
   "metadata": {},
   "outputs": [],
   "source": [
    "application_test.write.format('jdbc').options(\n",
    "    url='jdbc:mysql://localhost:3306/mysql',\n",
    "    driver='com.mysql.cj.jdbc.Driver',\n",
    "    dbtable='sys.home_credit_default_risk_application_test',\n",
    "    user='root',\n",
    "    password='mekanika').mode('ignore').save()"
   ]
  }
 ],
 "metadata": {
  "kernelspec": {
   "display_name": "Python 3 (ipykernel)",
   "language": "python",
   "name": "python3"
  },
  "language_info": {
   "codemirror_mode": {
    "name": "ipython",
    "version": 3
   },
   "file_extension": ".py",
   "mimetype": "text/x-python",
   "name": "python",
   "nbconvert_exporter": "python",
   "pygments_lexer": "ipython3",
   "version": "3.9.12"
  }
 },
 "nbformat": 4,
 "nbformat_minor": 5
}
